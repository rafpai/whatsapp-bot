{
 "cells": [
  {
   "cell_type": "code",
   "execution_count": 1,
   "metadata": {},
   "outputs": [],
   "source": [
    "import selenium\n",
    "from selenium.webdriver.common.keys import Keys \n",
    "from selenium.webdriver.common.by import By\n",
    "from selenium.webdriver.support.ui import WebDriverWait\n",
    "from selenium.webdriver.support import expected_conditions as EC\n",
    "from selenium.webdriver import Firefox\n",
    "import time\n",
    "import numpy as np"
   ]
  },
  {
   "cell_type": "code",
   "execution_count": 2,
   "metadata": {
    "scrolled": true
   },
   "outputs": [],
   "source": [
    "def load_Driver():\n",
    "    return Firefox(executable_path='geckodriver.exe')\n",
    "    \n"
   ]
  },
  {
   "cell_type": "code",
   "execution_count": 3,
   "metadata": {},
   "outputs": [],
   "source": [
    "def get_webpage(week):\n",
    "    webpage=\"https://fantasy.espn.com/football/leaders?statSplit=singleScoringPeriod&scoringPeriodId={}\".format(week)\n",
    "    return webpage"
   ]
  },
  {
   "cell_type": "code",
   "execution_count": 4,
   "metadata": {},
   "outputs": [],
   "source": [
    "def get_players():\n",
    "    players=[]\n",
    "    players_raw=driver.find_elements_by_class_name(\"player-column__athlete\")\n",
    "    for player in players_raw:\n",
    "        players.append(player.text.split(\"\\n\")[0])\n",
    "    return players"
   ]
  },
  {
   "cell_type": "code",
   "execution_count": 5,
   "metadata": {},
   "outputs": [],
   "source": [
    "def get_rush_yds():\n",
    "    rush_yds=[]\n",
    "    rush_yds_raw=driver.find_elements_by_xpath(\"//*[@title='Rushing Yards']\")\n",
    "    for rush_yd in rush_yds_raw:\n",
    "        if not rush_yd.text == \"YDS\":\n",
    "            rush_yds.append(rush_yd.text)\n",
    "    return rush_yds"
   ]
  },
  {
   "cell_type": "code",
   "execution_count": 6,
   "metadata": {},
   "outputs": [],
   "source": [
    "def get_pass_yds():\n",
    "    pass_yds=[]\n",
    "    pass_yds_raw=driver.find_elements_by_xpath(\"//*[@title='Passing Yards']\")\n",
    "    for pass_yd in pass_yds_raw:\n",
    "        if not pass_yd.text == \"YDS\":\n",
    "            pass_yds.append(pass_yd.text)\n",
    "    return pass_yds"
   ]
  },
  {
   "cell_type": "code",
   "execution_count": 7,
   "metadata": {},
   "outputs": [],
   "source": [
    "def get_rec_yds():\n",
    "    rec_yds=[]\n",
    "    rec_yds_raw=driver.find_elements_by_xpath(\"//*[@title='Receiving Yards']\")\n",
    "    for rec_yd in rec_yds_raw:\n",
    "        if not rec_yd.text == \"YDS\":\n",
    "            rec_yds.append(rec_yd.text)\n",
    "    return rec_yds"
   ]
  },
  {
   "cell_type": "code",
   "execution_count": 8,
   "metadata": {},
   "outputs": [],
   "source": [
    "def get_rush_tds():\n",
    "    rush_tds=[]\n",
    "    rush_tds_raw=driver.find_elements_by_xpath(\"//*[@title='TD Rush']\")\n",
    "    for rush_td in rush_tds_raw:\n",
    "        if not rush_td.text == \"TD\":\n",
    "            rush_tds.append(rush_td.text)\n",
    "    return rush_tds"
   ]
  },
  {
   "cell_type": "code",
   "execution_count": 9,
   "metadata": {},
   "outputs": [],
   "source": [
    "def get_pass_tds():\n",
    "    pass_tds=[]\n",
    "    pass_tds_raw=driver.find_elements_by_xpath(\"//*[@title='TD Pass']\")\n",
    "    for pass_td in pass_tds_raw:\n",
    "        if not pass_td.text == \"TD\":\n",
    "            pass_tds.append(pass_td.text)\n",
    "    return pass_tds"
   ]
  },
  {
   "cell_type": "code",
   "execution_count": 10,
   "metadata": {},
   "outputs": [],
   "source": [
    "def get_rec_tds():\n",
    "    rec_tds=[]\n",
    "    rec_tds_raw=driver.find_elements_by_xpath(\"//*[@title='TD Reception']\")\n",
    "    for rec_td in rec_tds_raw:\n",
    "        if not rec_td.text == \"TD\":\n",
    "            rec_tds.append(rec_td.text)\n",
    "    return rec_tds"
   ]
  },
  {
   "cell_type": "code",
   "execution_count": 11,
   "metadata": {},
   "outputs": [],
   "source": [
    "def get_pass_ints():\n",
    "    pass_ints=[]\n",
    "    pass_ints_raw=driver.find_elements_by_xpath(\"//*[@title='Interceptions Thrown']\")\n",
    "    for pass_int in pass_ints_raw:\n",
    "        if not pass_int.text == \"INT\":\n",
    "            pass_ints.append(pass_int.text)\n",
    "    return pass_ints"
   ]
  },
  {
   "cell_type": "code",
   "execution_count": 12,
   "metadata": {},
   "outputs": [],
   "source": [
    "def get_fumls():\n",
    "    fumls=[]\n",
    "    fumls_raw=driver.find_elements_by_xpath(\"//*[@title='Total Fumbles Lost']\")\n",
    "    for fuml in fumls_raw:\n",
    "        if not fuml.text == \"FUML\":\n",
    "            fumls.append(fuml.text)\n",
    "    return fumls"
   ]
  },
  {
   "cell_type": "code",
   "execution_count": 13,
   "metadata": {},
   "outputs": [],
   "source": [
    "def next_page():\n",
    "    button=driver.find_element_by_xpath(\"/html/body/div[1]/div[1]/div/div/div[5]/div[2]/div[2]/div/div/div/div/div/button[2]\")\n",
    "    button.click()\n",
    "    WebDriverWait(driver, 2).until(EC.presence_of_element_located((By.CLASS_NAME, \"player-column__athlete\")))"
   ]
  },
  {
   "cell_type": "code",
   "execution_count": 14,
   "metadata": {},
   "outputs": [],
   "source": [
    "def go_to_first_page():\n",
    "    button=driver.find_element_by_xpath(\"/html/body/div[1]/div[1]/div/div/div[5]/div[2]/div[2]/div/div/div/div/div/div/ul/li[1]\")\n",
    "    button.click()\n",
    "    WebDriverWait(driver, 2).until(EC.presence_of_element_located((By.CLASS_NAME, \"player-column__athlete\")))"
   ]
  },
  {
   "cell_type": "code",
   "execution_count": 15,
   "metadata": {},
   "outputs": [],
   "source": [
    "def accept_cookies():\n",
    "    button=driver.find_element_by_xpath(\"//*[@id='onetrust-accept-btn-handler']\")\n",
    "    button.click()\n",
    "    WebDriverWait(driver, 6).until(EC.presence_of_element_located((By.CLASS_NAME, \"player-column__athlete\")))"
   ]
  },
  {
   "cell_type": "code",
   "execution_count": 16,
   "metadata": {},
   "outputs": [],
   "source": [
    "def read_player_file():\n",
    "    players_file=open(\"../Team.txt\", 'r')\n",
    "    players=players_file.read().split(\"\\n\")\n",
    "    players_file.close()\n",
    "    players=[player for player in players if player != \"\"]\n",
    "    return players\n",
    "    "
   ]
  },
  {
   "cell_type": "code",
   "execution_count": 17,
   "metadata": {},
   "outputs": [],
   "source": [
    "def get_data():\n",
    "    wanted_players=read_player_file()\n",
    "    \n",
    "    page=1\n",
    "    players=[]\n",
    "    \n",
    "    pass_yds=[]\n",
    "    rush_yds=[]\n",
    "    rec_yds=[]\n",
    "    \n",
    "    pass_tds=[]\n",
    "    rush_tds=[]\n",
    "    rec_tds=[]\n",
    "    \n",
    "    pass_ints=[]\n",
    "    fumls=[]\n",
    "    \n",
    "    go_to_first_page()\n",
    "    while page<=22:\n",
    "        print(\"searching on page {} of 22\".format(page))\n",
    "        \n",
    "        players+=get_players()\n",
    "        \n",
    "        pass_yds+=get_pass_yds()\n",
    "        rush_yds+=get_rush_yds()\n",
    "        rec_yds+=get_rec_yds()\n",
    "        \n",
    "        pass_tds+=get_pass_tds()\n",
    "        rush_tds+=get_rush_tds()\n",
    "        rec_tds+=get_rec_tds()\n",
    "        \n",
    "        pass_ints+=get_pass_ints()\n",
    "        fumls+=get_fumls()\n",
    "        \n",
    "        next_page()\n",
    "        page+=1\n",
    "        \n",
    "        \n",
    "        if all(elem in players  for elem in wanted_players):\n",
    "            print(\"all players found\")\n",
    "            break\n",
    "    \n",
    "    \n",
    "    ff_score=[]\n",
    "    for player in wanted_players:\n",
    "        i=players.index(player)\n",
    "        score= float(rec_yds[i])/10+float(rush_yds[i])/10+float(pass_yds[i])/25+float(pass_tds[i])*4+float(rush_tds[i])*6+float(rec_tds[i])*6-2*float(pass_ints[i])-2*float(fumls[i])\n",
    "        ff_score.append([player,str(score)])\n",
    "    \n",
    "    return(ff_score)"
   ]
  },
  {
   "cell_type": "code",
   "execution_count": 18,
   "metadata": {},
   "outputs": [],
   "source": [
    "def print_file(data):\n",
    "    f = open(\"../ff_score.txt\", \"w\")\n",
    "    f.write(\"Player\\t\\tScore\\n----------------------------------------------\\n\")\n",
    "    for d in data:\n",
    "        f.write(d[0])\n",
    "        f.write(\"\\t\")\n",
    "        f.write(d[1])\n",
    "        f.write(\"\\n\")\n",
    "    f.close()"
   ]
  },
  {
   "cell_type": "code",
   "execution_count": 19,
   "metadata": {},
   "outputs": [
    {
     "name": "stdout",
     "output_type": "stream",
     "text": [
      "Requested Week 12\n"
     ]
    },
    {
     "ename": "KeyboardInterrupt",
     "evalue": "",
     "output_type": "error",
     "traceback": [
      "\u001b[1;31m---------------------------------------------------------------------------\u001b[0m",
      "\u001b[1;31mKeyboardInterrupt\u001b[0m                         Traceback (most recent call last)",
      "\u001b[1;32m~\\Anaconda3\\lib\\site-packages\\ipykernel\\kernelbase.py\u001b[0m in \u001b[0;36m_input_request\u001b[1;34m(self, prompt, ident, parent, password)\u001b[0m\n\u001b[0;32m    884\u001b[0m             \u001b[1;32mtry\u001b[0m\u001b[1;33m:\u001b[0m\u001b[1;33m\u001b[0m\u001b[1;33m\u001b[0m\u001b[0m\n\u001b[1;32m--> 885\u001b[1;33m                 \u001b[0mident\u001b[0m\u001b[1;33m,\u001b[0m \u001b[0mreply\u001b[0m \u001b[1;33m=\u001b[0m \u001b[0mself\u001b[0m\u001b[1;33m.\u001b[0m\u001b[0msession\u001b[0m\u001b[1;33m.\u001b[0m\u001b[0mrecv\u001b[0m\u001b[1;33m(\u001b[0m\u001b[0mself\u001b[0m\u001b[1;33m.\u001b[0m\u001b[0mstdin_socket\u001b[0m\u001b[1;33m,\u001b[0m \u001b[1;36m0\u001b[0m\u001b[1;33m)\u001b[0m\u001b[1;33m\u001b[0m\u001b[1;33m\u001b[0m\u001b[0m\n\u001b[0m\u001b[0;32m    886\u001b[0m             \u001b[1;32mexcept\u001b[0m \u001b[0mException\u001b[0m\u001b[1;33m:\u001b[0m\u001b[1;33m\u001b[0m\u001b[1;33m\u001b[0m\u001b[0m\n",
      "\u001b[1;32m~\\Anaconda3\\lib\\site-packages\\jupyter_client\\session.py\u001b[0m in \u001b[0;36mrecv\u001b[1;34m(self, socket, mode, content, copy)\u001b[0m\n\u001b[0;32m    802\u001b[0m         \u001b[1;32mtry\u001b[0m\u001b[1;33m:\u001b[0m\u001b[1;33m\u001b[0m\u001b[1;33m\u001b[0m\u001b[0m\n\u001b[1;32m--> 803\u001b[1;33m             \u001b[0mmsg_list\u001b[0m \u001b[1;33m=\u001b[0m \u001b[0msocket\u001b[0m\u001b[1;33m.\u001b[0m\u001b[0mrecv_multipart\u001b[0m\u001b[1;33m(\u001b[0m\u001b[0mmode\u001b[0m\u001b[1;33m,\u001b[0m \u001b[0mcopy\u001b[0m\u001b[1;33m=\u001b[0m\u001b[0mcopy\u001b[0m\u001b[1;33m)\u001b[0m\u001b[1;33m\u001b[0m\u001b[1;33m\u001b[0m\u001b[0m\n\u001b[0m\u001b[0;32m    804\u001b[0m         \u001b[1;32mexcept\u001b[0m \u001b[0mzmq\u001b[0m\u001b[1;33m.\u001b[0m\u001b[0mZMQError\u001b[0m \u001b[1;32mas\u001b[0m \u001b[0me\u001b[0m\u001b[1;33m:\u001b[0m\u001b[1;33m\u001b[0m\u001b[1;33m\u001b[0m\u001b[0m\n",
      "\u001b[1;32m~\\Anaconda3\\lib\\site-packages\\zmq\\sugar\\socket.py\u001b[0m in \u001b[0;36mrecv_multipart\u001b[1;34m(self, flags, copy, track)\u001b[0m\n\u001b[0;32m    474\u001b[0m         \"\"\"\n\u001b[1;32m--> 475\u001b[1;33m         \u001b[0mparts\u001b[0m \u001b[1;33m=\u001b[0m \u001b[1;33m[\u001b[0m\u001b[0mself\u001b[0m\u001b[1;33m.\u001b[0m\u001b[0mrecv\u001b[0m\u001b[1;33m(\u001b[0m\u001b[0mflags\u001b[0m\u001b[1;33m,\u001b[0m \u001b[0mcopy\u001b[0m\u001b[1;33m=\u001b[0m\u001b[0mcopy\u001b[0m\u001b[1;33m,\u001b[0m \u001b[0mtrack\u001b[0m\u001b[1;33m=\u001b[0m\u001b[0mtrack\u001b[0m\u001b[1;33m)\u001b[0m\u001b[1;33m]\u001b[0m\u001b[1;33m\u001b[0m\u001b[1;33m\u001b[0m\u001b[0m\n\u001b[0m\u001b[0;32m    476\u001b[0m         \u001b[1;31m# have first part already, only loop while more to receive\u001b[0m\u001b[1;33m\u001b[0m\u001b[1;33m\u001b[0m\u001b[1;33m\u001b[0m\u001b[0m\n",
      "\u001b[1;32mzmq/backend/cython/socket.pyx\u001b[0m in \u001b[0;36mzmq.backend.cython.socket.Socket.recv\u001b[1;34m()\u001b[0m\n",
      "\u001b[1;32mzmq/backend/cython/socket.pyx\u001b[0m in \u001b[0;36mzmq.backend.cython.socket.Socket.recv\u001b[1;34m()\u001b[0m\n",
      "\u001b[1;32mzmq/backend/cython/socket.pyx\u001b[0m in \u001b[0;36mzmq.backend.cython.socket._recv_copy\u001b[1;34m()\u001b[0m\n",
      "\u001b[1;32m~\\Anaconda3\\lib\\site-packages\\zmq\\backend\\cython\\checkrc.pxd\u001b[0m in \u001b[0;36mzmq.backend.cython.checkrc._check_rc\u001b[1;34m()\u001b[0m\n",
      "\u001b[1;31mKeyboardInterrupt\u001b[0m: ",
      "\nDuring handling of the above exception, another exception occurred:\n",
      "\u001b[1;31mKeyboardInterrupt\u001b[0m                         Traceback (most recent call last)",
      "\u001b[1;32m<ipython-input-19-fa793a1869a9>\u001b[0m in \u001b[0;36m<module>\u001b[1;34m\u001b[0m\n\u001b[1;32m----> 1\u001b[1;33m \u001b[0mweek\u001b[0m \u001b[1;33m=\u001b[0m \u001b[0mint\u001b[0m\u001b[1;33m(\u001b[0m\u001b[0minput\u001b[0m\u001b[1;33m(\u001b[0m\u001b[1;34m\"Requested Week \"\u001b[0m\u001b[1;33m)\u001b[0m\u001b[1;33m)\u001b[0m\u001b[1;33m\u001b[0m\u001b[1;33m\u001b[0m\u001b[0m\n\u001b[0m\u001b[0;32m      2\u001b[0m \u001b[0mdriver\u001b[0m\u001b[1;33m=\u001b[0m\u001b[0mload_Driver\u001b[0m\u001b[1;33m(\u001b[0m\u001b[1;33m)\u001b[0m\u001b[1;33m\u001b[0m\u001b[1;33m\u001b[0m\u001b[0m\n\u001b[0;32m      3\u001b[0m \u001b[0mdriver\u001b[0m\u001b[1;33m.\u001b[0m\u001b[0mget\u001b[0m\u001b[1;33m(\u001b[0m\u001b[0mget_webpage\u001b[0m\u001b[1;33m(\u001b[0m\u001b[0mweek\u001b[0m\u001b[1;33m)\u001b[0m\u001b[1;33m)\u001b[0m\u001b[1;33m\u001b[0m\u001b[1;33m\u001b[0m\u001b[0m\n\u001b[0;32m      4\u001b[0m \u001b[0mWebDriverWait\u001b[0m\u001b[1;33m(\u001b[0m\u001b[0mdriver\u001b[0m\u001b[1;33m,\u001b[0m \u001b[1;36m8\u001b[0m\u001b[1;33m)\u001b[0m\u001b[1;33m.\u001b[0m\u001b[0muntil\u001b[0m\u001b[1;33m(\u001b[0m\u001b[0mEC\u001b[0m\u001b[1;33m.\u001b[0m\u001b[0mpresence_of_element_located\u001b[0m\u001b[1;33m(\u001b[0m\u001b[1;33m(\u001b[0m\u001b[0mBy\u001b[0m\u001b[1;33m.\u001b[0m\u001b[0mID\u001b[0m\u001b[1;33m,\u001b[0m \u001b[1;34m\"onetrust-accept-btn-handler\"\u001b[0m\u001b[1;33m)\u001b[0m\u001b[1;33m)\u001b[0m\u001b[1;33m)\u001b[0m\u001b[1;33m\u001b[0m\u001b[1;33m\u001b[0m\u001b[0m\n\u001b[0;32m      5\u001b[0m \u001b[1;33m\u001b[0m\u001b[0m\n",
      "\u001b[1;32m~\\Anaconda3\\lib\\site-packages\\ipykernel\\kernelbase.py\u001b[0m in \u001b[0;36mraw_input\u001b[1;34m(self, prompt)\u001b[0m\n\u001b[0;32m    858\u001b[0m             \u001b[0mself\u001b[0m\u001b[1;33m.\u001b[0m\u001b[0m_parent_ident\u001b[0m\u001b[1;33m,\u001b[0m\u001b[1;33m\u001b[0m\u001b[1;33m\u001b[0m\u001b[0m\n\u001b[0;32m    859\u001b[0m             \u001b[0mself\u001b[0m\u001b[1;33m.\u001b[0m\u001b[0m_parent_header\u001b[0m\u001b[1;33m,\u001b[0m\u001b[1;33m\u001b[0m\u001b[1;33m\u001b[0m\u001b[0m\n\u001b[1;32m--> 860\u001b[1;33m             \u001b[0mpassword\u001b[0m\u001b[1;33m=\u001b[0m\u001b[1;32mFalse\u001b[0m\u001b[1;33m,\u001b[0m\u001b[1;33m\u001b[0m\u001b[1;33m\u001b[0m\u001b[0m\n\u001b[0m\u001b[0;32m    861\u001b[0m         )\n\u001b[0;32m    862\u001b[0m \u001b[1;33m\u001b[0m\u001b[0m\n",
      "\u001b[1;32m~\\Anaconda3\\lib\\site-packages\\ipykernel\\kernelbase.py\u001b[0m in \u001b[0;36m_input_request\u001b[1;34m(self, prompt, ident, parent, password)\u001b[0m\n\u001b[0;32m    888\u001b[0m             \u001b[1;32mexcept\u001b[0m \u001b[0mKeyboardInterrupt\u001b[0m\u001b[1;33m:\u001b[0m\u001b[1;33m\u001b[0m\u001b[1;33m\u001b[0m\u001b[0m\n\u001b[0;32m    889\u001b[0m                 \u001b[1;31m# re-raise KeyboardInterrupt, to truncate traceback\u001b[0m\u001b[1;33m\u001b[0m\u001b[1;33m\u001b[0m\u001b[1;33m\u001b[0m\u001b[0m\n\u001b[1;32m--> 890\u001b[1;33m                 \u001b[1;32mraise\u001b[0m \u001b[0mKeyboardInterrupt\u001b[0m\u001b[1;33m\u001b[0m\u001b[1;33m\u001b[0m\u001b[0m\n\u001b[0m\u001b[0;32m    891\u001b[0m             \u001b[1;32melse\u001b[0m\u001b[1;33m:\u001b[0m\u001b[1;33m\u001b[0m\u001b[1;33m\u001b[0m\u001b[0m\n\u001b[0;32m    892\u001b[0m                 \u001b[1;32mbreak\u001b[0m\u001b[1;33m\u001b[0m\u001b[1;33m\u001b[0m\u001b[0m\n",
      "\u001b[1;31mKeyboardInterrupt\u001b[0m: "
     ]
    }
   ],
   "source": [
    "week = int(input(\"Requested Week \"))\n",
    "driver=load_Driver()\n",
    "driver.get(get_webpage(week))\n",
    "WebDriverWait(driver, 8).until(EC.presence_of_element_located((By.ID, \"onetrust-accept-btn-handler\")))\n",
    "\n",
    "accept_cookies()\n",
    "\n",
    "print_file(get_data())\n",
    "\n",
    "driver.close()"
   ]
  },
  {
   "cell_type": "code",
   "execution_count": null,
   "metadata": {},
   "outputs": [],
   "source": []
  }
 ],
 "metadata": {
  "kernelspec": {
   "display_name": "Python 3",
   "language": "python",
   "name": "python3"
  },
  "language_info": {
   "codemirror_mode": {
    "name": "ipython",
    "version": 3
   },
   "file_extension": ".py",
   "mimetype": "text/x-python",
   "name": "python",
   "nbconvert_exporter": "python",
   "pygments_lexer": "ipython3",
   "version": "3.7.4"
  }
 },
 "nbformat": 4,
 "nbformat_minor": 2
}
