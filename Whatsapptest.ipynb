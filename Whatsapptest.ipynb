{
 "cells": [
  {
   "cell_type": "code",
   "execution_count": 1,
   "metadata": {},
   "outputs": [],
   "source": [
    "import selenium\n",
    "from selenium.webdriver.common.keys import Keys \n",
    "from selenium.webdriver.common.by import By\n",
    "from selenium.webdriver.support.ui import WebDriverWait\n",
    "from selenium.webdriver.support import expected_conditions as EC\n",
    "from selenium.webdriver import Firefox\n",
    "import time\n",
    "import random"
   ]
  },
  {
   "cell_type": "code",
   "execution_count": 2,
   "metadata": {},
   "outputs": [],
   "source": [
    "def load_Driver():\n",
    "    return Firefox(executable_path='WebDrivers/geckodriver.exe')"
   ]
  },
  {
   "cell_type": "code",
   "execution_count": 3,
   "metadata": {},
   "outputs": [],
   "source": [
    "driver=Firefox(executable_path='WebDrivers/geckodriver.exe')"
   ]
  },
  {
   "cell_type": "code",
   "execution_count": 4,
   "metadata": {},
   "outputs": [],
   "source": [
    "WWsite=\"https://web.whatsapp.com/\"\n",
    "site=\"https://www.quora.com/How-do-I-keep-logged-in-on-the-WhatsApp-web\""
   ]
  },
  {
   "cell_type": "code",
   "execution_count": 5,
   "metadata": {},
   "outputs": [],
   "source": [
    "driver.get(WWsite)\n",
    "time.sleep(20)"
   ]
  },
  {
   "cell_type": "code",
   "execution_count": 7,
   "metadata": {},
   "outputs": [],
   "source": [
    "friend=driver.find_element_by_xpath('//span[contains(text(),\"Nik\")]')\n",
    "friend.click()\n",
    "\n",
    "textField = driver.find_element_by_xpath('/html/body/div[1]/div/div/div[4]/div/footer/div[1]/div[2]/div/div[2]')\n",
    "\n",
    "#sendButton=driver.find_element_by_class_name('send-container').click()   \n",
    "\n",
    "                                        "
   ]
  },
  {
   "cell_type": "code",
   "execution_count": 9,
   "metadata": {
    "scrolled": true
   },
   "outputs": [],
   "source": [
    "isNew = False\n",
    "def get_last_msg():\n",
    "    lastMsgs=driver.find_elements_by_class_name(\"selectable-text\")\n",
    "    lastmsg=lastMsgs[-2].text\n",
    "    return lastmsg\n",
    "checklist=[\"wie\",\"geht's\", \"geht\", \"es\",  \"dir?\"]"
   ]
  },
  {
   "cell_type": "code",
   "execution_count": 10,
   "metadata": {},
   "outputs": [],
   "source": [
    "Sentences1=[\"Hei du <3\", \"Hallo <3<3\", \"Na du :-) <3\" ]\n",
    "Sentences2=[\"Mir gehts super<3\", \"Mir gehts voll gut <3\", \"Ausgezeichnet :-D <3\"]\n",
    "Sentences3=[\"Und wie gehts dir?\", \"Und dir so\", \"und was hast du heute gemacht?\" ]"
   ]
  },
  {
   "cell_type": "code",
   "execution_count": 11,
   "metadata": {},
   "outputs": [],
   "source": [
    "def build_response():\n",
    "    response=random.choice(Sentences1)+ \" \\n \" +random.choice(Sentences2)+ \" \\n \"+random.choice(Sentences3)\n",
    "    return response\n",
    "    "
   ]
  },
  {
   "cell_type": "code",
   "execution_count": 12,
   "metadata": {},
   "outputs": [
    {
     "ename": "KeyboardInterrupt",
     "evalue": "",
     "output_type": "error",
     "traceback": [
      "\u001b[1;31m---------------------------------------------------------------------------\u001b[0m",
      "\u001b[1;31mKeyboardInterrupt\u001b[0m                         Traceback (most recent call last)",
      "\u001b[1;32m<ipython-input-12-b996c9392a8e>\u001b[0m in \u001b[0;36m<module>\u001b[1;34m\u001b[0m\n\u001b[0;32m     17\u001b[0m         \u001b[0mtextField\u001b[0m\u001b[1;33m.\u001b[0m\u001b[0msend_keys\u001b[0m\u001b[1;33m(\u001b[0m\u001b[0mbuild_response\u001b[0m\u001b[1;33m(\u001b[0m\u001b[1;33m)\u001b[0m \u001b[1;33m+\u001b[0m \u001b[0mKeys\u001b[0m\u001b[1;33m.\u001b[0m\u001b[0mENTER\u001b[0m\u001b[1;33m)\u001b[0m\u001b[1;33m\u001b[0m\u001b[1;33m\u001b[0m\u001b[0m\n\u001b[0;32m     18\u001b[0m \u001b[1;33m\u001b[0m\u001b[0m\n\u001b[1;32m---> 19\u001b[1;33m     \u001b[0mtime\u001b[0m\u001b[1;33m.\u001b[0m\u001b[0msleep\u001b[0m\u001b[1;33m(\u001b[0m\u001b[1;36m360\u001b[0m\u001b[1;33m)\u001b[0m\u001b[1;33m\u001b[0m\u001b[1;33m\u001b[0m\u001b[0m\n\u001b[0m",
      "\u001b[1;31mKeyboardInterrupt\u001b[0m: "
     ]
    }
   ],
   "source": [
    "isNew=True\n",
    "lastMsg=\"ree\"\n",
    "while (True):\n",
    "    friend=driver.find_element_by_xpath('//span[contains(text(),\"Christina\")]')\n",
    "    friend.click()\n",
    "    textField = driver.find_element_by_xpath('/html/body/div[1]/div/div/div[4]/div/footer/div[1]/div[2]/div/div[2]')\n",
    "\n",
    "    \n",
    "    \n",
    "    stlMsg=lastMsg\n",
    "    lastMsg=get_last_msg()\n",
    "    isNew=not(stlMsg==lastMsg)\n",
    "        \n",
    "\n",
    "    #print(lastMsg, isNew,stlMsg)\n",
    "    if(any(item in lastMsg.split(' ') for item in checklist) and isNew):\n",
    "        textField.send_keys(build_response() + Keys.ENTER)\n",
    "\n",
    "    time.sleep(360)"
   ]
  },
  {
   "cell_type": "code",
   "execution_count": null,
   "metadata": {},
   "outputs": [],
   "source": [
    "#textField.send_keys(build_response() + Keys.ENTER)"
   ]
  },
  {
   "cell_type": "code",
   "execution_count": 8,
   "metadata": {},
   "outputs": [],
   "source": [
    "for i in range(50):\n",
    "    textField.send_keys(\"🤖 Reeee\")\n",
    "    textField.send_keys(Keys.ENTER)\n",
    "##textField.send_keys(\"Test, Test Dies ist ein Roboter 🤖 \\n Hallo Tini biip biip <3\" + Keys.ENTER)"
   ]
  },
  {
   "cell_type": "code",
   "execution_count": null,
   "metadata": {},
   "outputs": [],
   "source": []
  }
 ],
 "metadata": {
  "kernelspec": {
   "display_name": "Python 3",
   "language": "python",
   "name": "python3"
  },
  "language_info": {
   "codemirror_mode": {
    "name": "ipython",
    "version": 3
   },
   "file_extension": ".py",
   "mimetype": "text/x-python",
   "name": "python",
   "nbconvert_exporter": "python",
   "pygments_lexer": "ipython3",
   "version": "3.7.4"
  }
 },
 "nbformat": 4,
 "nbformat_minor": 2
}
