{
 "cells": [
  {
   "cell_type": "code",
   "execution_count": 1,
   "metadata": {},
   "outputs": [],
   "source": [
    "import selenium\n",
    "from selenium.webdriver.common.keys import Keys \n",
    "from selenium.webdriver.common.by import By\n",
    "from selenium.webdriver.support.ui import WebDriverWait\n",
    "from selenium.webdriver.support import expected_conditions as EC\n",
    "from selenium.webdriver import Firefox\n",
    "from selenium.webdriver import PhantomJS\n",
    "\n",
    "import tkinter as tk\n",
    "from tkinter import ttk\n",
    "\n",
    "import time"
   ]
  },
  {
   "cell_type": "code",
   "execution_count": 2,
   "metadata": {},
   "outputs": [],
   "source": [
    "FONT=(\"Verdana\", 12)"
   ]
  },
  {
   "cell_type": "code",
   "execution_count": 3,
   "metadata": {
    "scrolled": true
   },
   "outputs": [],
   "source": [
    "def load_Driver():\n",
    "    #return Firefox(executable_path='WebDrivers/geckodriver.exe')\n",
    "    return PhantomJS(executable_path='C:/Users/Rafael/Desktop/Börse/WebDrivers/phantomjs.exe')\n",
    "    \n"
   ]
  },
  {
   "cell_type": "code",
   "execution_count": 4,
   "metadata": {},
   "outputs": [
    {
     "name": "stderr",
     "output_type": "stream",
     "text": [
      "C:\\Users\\Rafael\\Anaconda3\\lib\\site-packages\\selenium\\webdriver\\phantomjs\\webdriver.py:49: UserWarning: Selenium support for PhantomJS has been deprecated, please use headless versions of Chrome or Firefox instead\n",
      "  warnings.warn('Selenium support for PhantomJS has been deprecated, please use headless '\n"
     ]
    }
   ],
   "source": [
    "driver=load_Driver()\n"
   ]
  },
  {
   "cell_type": "code",
   "execution_count": 5,
   "metadata": {},
   "outputs": [],
   "source": [
    "webpage=\"https://aktienkurs-orderbuch.finanznachrichten.de/tui1.htm\"\n",
    "driver.get(webpage)\n",
    "\n",
    "\n",
    "\n",
    "def get_StockPrice():\n",
    "    Kurs=driver.find_element_by_id(\"additionalOfferInformation_152\").text\n",
    "    Kurs=Kurs.split(' ')[0]\n",
    "    Kurs=float(Kurs.split(',')[0])+float(Kurs.split(',')[1])*0.001\n",
    "    return Kurs"
   ]
  },
  {
   "cell_type": "code",
   "execution_count": 6,
   "metadata": {},
   "outputs": [],
   "source": [
    "def popup(msg):\n",
    "    popup = tk.Tk()\n",
    "    popup.wm_title(\"!Börse!\")\n",
    "    label = ttk.Label(popup, text=msg, font=FONT)\n",
    "    label.pack(side=\"top\", fill=\"x\", pady=10)\n",
    "    B1 = ttk.Button(popup, text=\"Okay\", command = popup.destroy)\n",
    "    B1.pack()\n",
    "    popup.mainloop()"
   ]
  },
  {
   "cell_type": "code",
   "execution_count": null,
   "metadata": {},
   "outputs": [],
   "source": [
    "MyVolume=100\n",
    "MyPrice=3.36\n",
    "BrokerFee=10.22\n",
    "Investment=MyVolume*MyPrice+BrokerFee\n",
    "\n",
    "Alerts=[False,False,False,False,False,False,False]\n",
    "t = time.localtime()\n",
    "T_min=t.tm_min+60*t.tm_hour\n",
    "Kurs=get_StockPrice()\n",
    "\n",
    "def give_Alert(Kurs,Alerts):\n",
    "    A=0\n",
    "\n",
    "    if (0.5*Investment/MyVolume>=Kurs):\n",
    "        if (not Alerts[0]):\n",
    "            Alerts[0]=True\n",
    "            A=-0.5\n",
    "    if (0.8*Investment/MyVolume>=Kurs):\n",
    "        if (not Alerts[1]):\n",
    "            Alerts[1]=True\n",
    "            A=-0.8\n",
    "    if (Investment/MyVolume<=Kurs):\n",
    "        if (not Alerts[2]):\n",
    "            Alerts[2]=True\n",
    "            A=1           \n",
    "    if (1.5*Investment/MyVolume<=Kurs):\n",
    "        if (not Alerts[3]):\n",
    "            Alerts[3]=True\n",
    "            A=0.5\n",
    "    if (2*Investment/MyVolume<=Kurs):\n",
    "        if (not Alerts[4]):\n",
    "            Alerts[4]=True\n",
    "            A=2\n",
    "    if (3*Investment/MyVolume<=Kurs):\n",
    "        if (not Alerts[5]):\n",
    "            Alerts[5]=True\n",
    "            A=3\n",
    "    if (4*Investment/MyVolume<=Kurs):\n",
    "        if (not Alerts[6]):\n",
    "            Alerts[6]=True\n",
    "            A=4\n",
    "\n",
    "    if (A != 0):\n",
    "        text=\"Aktie bei {} * Investment \\n Gewinn: {}\".format(A, round(Kurs*MyVolume-Investment,2))\n",
    "        popup(text)\n",
    "\n",
    "        \n",
    "popup(\"Tagesstartkurs={} \\n Gewinn: {}\".format(Kurs, round(Kurs*MyVolume-Investment,2)) )       \n",
    "while (T_min<1050 and T_min>540):\n",
    "    t = time.localtime()\n",
    "    T_min=t.tm_min+60*t.tm_hour\n",
    "    \n",
    "    Kurs=get_StockPrice()\n",
    "    give_Alert(Kurs,Alerts)\n",
    "    time.sleep(300)\n",
    "\n",
    "popup(\"Tagesendkurs={} \\n Gewinn: {}\".format(Kurs, round(Kurs*MyVolume-Investment,2)) )\n",
    "driver.quit()            "
   ]
  },
  {
   "cell_type": "code",
   "execution_count": null,
   "metadata": {},
   "outputs": [],
   "source": []
  }
 ],
 "metadata": {
  "kernelspec": {
   "display_name": "Python 3",
   "language": "python",
   "name": "python3"
  },
  "language_info": {
   "codemirror_mode": {
    "name": "ipython",
    "version": 3
   },
   "file_extension": ".py",
   "mimetype": "text/x-python",
   "name": "python",
   "nbconvert_exporter": "python",
   "pygments_lexer": "ipython3",
   "version": "3.7.4"
  }
 },
 "nbformat": 4,
 "nbformat_minor": 2
}
